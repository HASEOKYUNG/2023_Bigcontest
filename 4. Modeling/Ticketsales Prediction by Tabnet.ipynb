{
 "cells": [
  {
   "cell_type": "markdown",
   "id": "7c251968",
   "metadata": {},
   "source": [
    "## Import"
   ]
  },
  {
   "cell_type": "code",
   "execution_count": 1,
   "id": "1e084649",
   "metadata": {},
   "outputs": [],
   "source": [
    "import pandas as pd\n",
    "import numpy as np\n",
    "np.random.seed(2023)\n",
    "import pickle\n",
    "from sklearn.metrics import mean_squared_error\n",
    "import os\n",
    "from sklearn.metrics import roc_auc_score\n",
    "from matplotlib import pyplot as plt\n",
    "\n",
    "import torch\n",
    "import torch.nn as nn\n",
    "# pip install pytorch-tabnet\n",
    "from pytorch_tabnet.tab_model import TabNetClassifier, TabNetRegressor\n",
    "# ignore warnings\n",
    "import warnings ; warnings.filterwarnings('ignore')"
   ]
  },
  {
   "cell_type": "markdown",
   "id": "03077682",
   "metadata": {},
   "source": [
    "## Read data"
   ]
  },
  {
   "cell_type": "code",
   "execution_count": 2,
   "id": "820559ee",
   "metadata": {},
   "outputs": [],
   "source": [
    "symphony_feature, chorus_feature, voice_feature, solo_feature, chamber_feature = pickle.load(open(f'../data/Features.pkl','rb'))"
   ]
  },
  {
   "cell_type": "markdown",
   "id": "3a8b8f9d",
   "metadata": {},
   "source": [
    "## TABNET"
   ]
  },
  {
   "cell_type": "code",
   "execution_count": 3,
   "id": "32d2ced8",
   "metadata": {},
   "outputs": [],
   "source": [
    "def TabNet_modeling(X, y):\n",
    "    # Road model\n",
    "    reg = TabNetRegressor(optimizer_fn=torch.optim.Adam,\n",
    "                          optimizer_params=dict(lr=1e-2),\n",
    "                          scheduler_params={\"step_size\":50,\"gamma\":0.9},\n",
    "                          scheduler_fn=torch.optim.lr_scheduler.StepLR,\n",
    "                          mask_type='sparsemax', verbose=0, seed=2023)  # \"sparsemax\", entmax\n",
    "    \n",
    "    # Split data \n",
    "    X['SET'] = np.random.choice([\"train\", \"val\", \"test\"], p =[.8, .1, .1], size=(X.shape[0],))\n",
    "    X_train, X_val, X_test = X.query('SET==\"train\"').drop('SET', axis=1), X.query('SET==\"val\"').drop('SET', axis=1), X.query('SET==\"test\"').drop('SET', axis=1)\n",
    "    y_train, y_val, y_test = y.loc[X_train.index], y.loc[X_val.index], y.loc[X_test.index]\n",
    "    \n",
    "    # Tunning\n",
    "    reg.fit(X_train=X_train.values, y_train=y_train.values,\n",
    "            eval_set=[(X_train.values, y_train.values), (X_val.values, y_val.values)],\n",
    "            eval_name=['train', 'valid'],\n",
    "            eval_metric=['rmse'],\n",
    "            max_epochs=1000 , patience=300,\n",
    "            batch_size=1024, virtual_batch_size=128,\n",
    "            num_workers=0,\n",
    "            drop_last=False)\n",
    "    \n",
    "    # Predict\n",
    "    preds = reg.predict(X_test.values)\n",
    "    test_mse = mean_squared_error(y_pred=preds, y_true=y_test)   \n",
    "    \n",
    "    # Selection\n",
    "    fimportance = pd.DataFrame({'feature': X_train.columns, 'importance':reg.feature_importances_})\n",
    "    unuse = fimportance.query('importance==0').feature.values.tolist()\n",
    "    if len(unuse) != 0:\n",
    "        X = X.drop(unuse, axis=1)\n",
    "        return X, reg.best_cost, test_mse, reg\n",
    "    else:\n",
    "        return None, 'Done!', 'Done!', None"
   ]
  },
  {
   "cell_type": "markdown",
   "id": "1f738c59",
   "metadata": {},
   "source": [
    "- 교향곡"
   ]
  },
  {
   "cell_type": "code",
   "execution_count": 4,
   "id": "3e0b7ece",
   "metadata": {},
   "outputs": [],
   "source": [
    "X = symphony_feature.drop([i for i in symphony_feature.columns if 'TARGET' in i], axis=1)\n",
    "y = symphony_feature[[i for i in symphony_feature.columns if 'TARGET' in i]]"
   ]
  },
  {
   "cell_type": "code",
   "execution_count": 5,
   "id": "fee91908",
   "metadata": {},
   "outputs": [
    {
     "name": "stdout",
     "output_type": "stream",
     "text": [
      "\n",
      "Early stopping occurred at epoch 539 with best_epoch = 239 and best_valid_rmse = 164.8821\n",
      "BEST VALID SCORE FOR DATA : 164.8821016529471\n",
      "FINAL TEST SCORE FOR DATA : 42275.14319664677\n"
     ]
    }
   ],
   "source": [
    "first_selected_symphony_feature, val_rmse, test_rmse, first_model_symphony = TabNet_modeling(X, y)\n",
    "print(f\"BEST VALID SCORE FOR DATA : {val_rmse}\")\n",
    "print(f\"FINAL TEST SCORE FOR DATA : {test_rmse}\")"
   ]
  },
  {
   "cell_type": "code",
   "execution_count": 6,
   "id": "dd4030a1",
   "metadata": {},
   "outputs": [
    {
     "name": "stdout",
     "output_type": "stream",
     "text": [
      "\n",
      "Early stopping occurred at epoch 511 with best_epoch = 211 and best_valid_rmse = 200.51576\n",
      "BEST VALID SCORE FOR DATA : 200.51576071092336\n",
      "FINAL TEST SCORE FOR DATA : 31722.005369391303\n"
     ]
    }
   ],
   "source": [
    "# 최종 모델\n",
    "second_selected_symphony_feature, val_rmse, test_rmse, second_model_symphony = TabNet_modeling(first_selected_symphony_feature, y)\n",
    "print(f\"BEST VALID SCORE FOR DATA : {val_rmse}\")\n",
    "print(f\"FINAL TEST SCORE FOR DATA : {test_rmse}\")"
   ]
  },
  {
   "cell_type": "code",
   "execution_count": 7,
   "id": "abf533cc",
   "metadata": {},
   "outputs": [
    {
     "name": "stdout",
     "output_type": "stream",
     "text": [
      "\n",
      "Early stopping occurred at epoch 566 with best_epoch = 266 and best_valid_rmse = 168.1597\n",
      "BEST VALID SCORE FOR DATA : 168.1597002912043\n",
      "FINAL TEST SCORE FOR DATA : 26678.12271861361\n"
     ]
    }
   ],
   "source": [
    "third_selected_symphony_feature, val_rmse, test_rmse, third_model_symphony = TabNet_modeling(second_selected_symphony_feature, y)\n",
    "print(f\"BEST VALID SCORE FOR DATA : {val_rmse}\")\n",
    "print(f\"FINAL TEST SCORE FOR DATA : {test_rmse}\")"
   ]
  },
  {
   "cell_type": "code",
   "execution_count": 8,
   "id": "66b5d697",
   "metadata": {
    "scrolled": true
   },
   "outputs": [
    {
     "name": "stdout",
     "output_type": "stream",
     "text": [
      "\n",
      "Early stopping occurred at epoch 556 with best_epoch = 256 and best_valid_rmse = 185.09874\n",
      "BEST VALID SCORE FOR DATA : 185.09874135531803\n",
      "FINAL TEST SCORE FOR DATA : 53888.50646498374\n"
     ]
    }
   ],
   "source": [
    "fourth_selected_symphony_feature, val_rmse, test_rmse, fourth_model_symphony = TabNet_modeling(third_selected_symphony_feature, y)\n",
    "print(f\"BEST VALID SCORE FOR DATA : {val_rmse}\")\n",
    "print(f\"FINAL TEST SCORE FOR DATA : {test_rmse}\")"
   ]
  },
  {
   "cell_type": "code",
   "execution_count": 9,
   "id": "80fa6095",
   "metadata": {},
   "outputs": [
    {
     "name": "stdout",
     "output_type": "stream",
     "text": [
      "\n",
      "Early stopping occurred at epoch 656 with best_epoch = 356 and best_valid_rmse = 184.65765\n",
      "BEST VALID SCORE FOR DATA : 184.65765240565392\n",
      "FINAL TEST SCORE FOR DATA : 55746.25784871587\n"
     ]
    }
   ],
   "source": [
    "fifth_selected_symphony_feature, val_rmse, test_rmse, fifth_model_symphony = TabNet_modeling(fourth_selected_symphony_feature, y)\n",
    "print(f\"BEST VALID SCORE FOR DATA : {val_rmse}\")\n",
    "print(f\"FINAL TEST SCORE FOR DATA : {test_rmse}\")"
   ]
  },
  {
   "cell_type": "code",
   "execution_count": 10,
   "id": "1f99ee69",
   "metadata": {},
   "outputs": [
    {
     "name": "stdout",
     "output_type": "stream",
     "text": [
      "\n",
      "Early stopping occurred at epoch 391 with best_epoch = 91 and best_valid_rmse = 218.71002\n",
      "BEST VALID SCORE FOR DATA : 218.71002205434337\n",
      "FINAL TEST SCORE FOR DATA : 38695.22940554545\n"
     ]
    }
   ],
   "source": [
    "sixth_selected_symphony_feature, val_rmse, test_rmse, sixth_model_symphony = TabNet_modeling(fifth_selected_symphony_feature, y)\n",
    "print(f\"BEST VALID SCORE FOR DATA : {val_rmse}\")\n",
    "print(f\"FINAL TEST SCORE FOR DATA : {test_rmse}\")"
   ]
  },
  {
   "cell_type": "code",
   "execution_count": 11,
   "id": "88483ad0",
   "metadata": {},
   "outputs": [
    {
     "name": "stdout",
     "output_type": "stream",
     "text": [
      "Stop training because you reached max_epochs = 1000 with best_epoch = 862 and best_valid_rmse = 160.5521\n",
      "BEST VALID SCORE FOR DATA : Done!\n",
      "FINAL TEST SCORE FOR DATA : Done!\n"
     ]
    }
   ],
   "source": [
    "seventh_selected_symphony_feature, val_rmse, test_rmse, seventh_model_symphony = TabNet_modeling(sixth_selected_symphony_feature, y)\n",
    "print(f\"BEST VALID SCORE FOR DATA : {val_rmse}\")\n",
    "print(f\"FINAL TEST SCORE FOR DATA : {test_rmse}\")"
   ]
  },
  {
   "cell_type": "markdown",
   "id": "13cc99ec",
   "metadata": {},
   "source": [
    "- 합창"
   ]
  },
  {
   "cell_type": "code",
   "execution_count": 12,
   "id": "e390c5c4",
   "metadata": {},
   "outputs": [],
   "source": [
    "# 최종 모델\n",
    "X = chorus_feature.drop([i for i in chorus_feature.columns if 'TARGET' in i], axis=1)\n",
    "y = chorus_feature[[i for i in chorus_feature.columns if 'TARGET' in i]]"
   ]
  },
  {
   "cell_type": "code",
   "execution_count": 13,
   "id": "1946d82a",
   "metadata": {},
   "outputs": [
    {
     "name": "stdout",
     "output_type": "stream",
     "text": [
      "\n",
      "Early stopping occurred at epoch 396 with best_epoch = 96 and best_valid_rmse = 104.18992\n",
      "BEST VALID SCORE FOR DATA : 104.18991759238911\n",
      "FINAL TEST SCORE FOR DATA : 36038.10356112092\n"
     ]
    }
   ],
   "source": [
    "first_selected_chorus_feature, val_rmse, test_rmse, first_model_chorus = TabNet_modeling(X, y)\n",
    "print(f\"BEST VALID SCORE FOR DATA : {val_rmse}\")\n",
    "print(f\"FINAL TEST SCORE FOR DATA : {test_rmse}\")"
   ]
  },
  {
   "cell_type": "code",
   "execution_count": 14,
   "id": "dfb3ff78",
   "metadata": {},
   "outputs": [
    {
     "name": "stdout",
     "output_type": "stream",
     "text": [
      "\n",
      "Early stopping occurred at epoch 537 with best_epoch = 237 and best_valid_rmse = 117.22899\n",
      "BEST VALID SCORE FOR DATA : Done!\n",
      "FINAL TEST SCORE FOR DATA : Done!\n"
     ]
    }
   ],
   "source": [
    "second_selected_chorus_feature, val_rmse, test_rmse, second_model_chorus = TabNet_modeling(first_selected_chorus_feature, y)\n",
    "print(f\"BEST VALID SCORE FOR DATA : {val_rmse}\")\n",
    "print(f\"FINAL TEST SCORE FOR DATA : {test_rmse}\")"
   ]
  },
  {
   "cell_type": "markdown",
   "id": "31cce911",
   "metadata": {},
   "source": [
    "- 성악"
   ]
  },
  {
   "cell_type": "code",
   "execution_count": 15,
   "id": "0c12c9a3",
   "metadata": {},
   "outputs": [],
   "source": [
    "# 최종 모델\n",
    "X = voice_feature.drop([i for i in voice_feature.columns if 'TARGET' in i], axis=1)\n",
    "y = voice_feature[[i for i in voice_feature.columns if 'TARGET' in i]]"
   ]
  },
  {
   "cell_type": "code",
   "execution_count": 16,
   "id": "4c8b5e30",
   "metadata": {},
   "outputs": [
    {
     "name": "stdout",
     "output_type": "stream",
     "text": [
      "\n",
      "Early stopping occurred at epoch 575 with best_epoch = 275 and best_valid_rmse = 61.16147\n",
      "BEST VALID SCORE FOR DATA : 61.161470206090875\n",
      "FINAL TEST SCORE FOR DATA : 18832.786757205522\n"
     ]
    }
   ],
   "source": [
    "first_selected_voice_feature, val_rmse, test_rmse, first_model_voice = TabNet_modeling(X, y)\n",
    "print(f\"BEST VALID SCORE FOR DATA : {val_rmse}\")\n",
    "print(f\"FINAL TEST SCORE FOR DATA : {test_rmse}\")"
   ]
  },
  {
   "cell_type": "code",
   "execution_count": 17,
   "id": "df2bc74a",
   "metadata": {
    "scrolled": true
   },
   "outputs": [
    {
     "name": "stdout",
     "output_type": "stream",
     "text": [
      "\n",
      "Early stopping occurred at epoch 668 with best_epoch = 368 and best_valid_rmse = 33.9581\n",
      "BEST VALID SCORE FOR DATA : Done!\n",
      "FINAL TEST SCORE FOR DATA : Done!\n"
     ]
    }
   ],
   "source": [
    "second_selected_voice_feature, val_rmse, test_rmse, second_model_voice = TabNet_modeling(first_selected_voice_feature, y)\n",
    "print(f\"BEST VALID SCORE FOR DATA : {val_rmse}\")\n",
    "print(f\"FINAL TEST SCORE FOR DATA : {test_rmse}\")"
   ]
  },
  {
   "cell_type": "markdown",
   "id": "fc94b7e4",
   "metadata": {},
   "source": [
    "- 독주"
   ]
  },
  {
   "cell_type": "code",
   "execution_count": 18,
   "id": "40809ef9",
   "metadata": {},
   "outputs": [],
   "source": [
    "X = solo_feature.drop([i for i in solo_feature.columns if 'TARGET' in i], axis=1)\n",
    "y = solo_feature[[i for i in solo_feature.columns if 'TARGET' in i]]"
   ]
  },
  {
   "cell_type": "code",
   "execution_count": 19,
   "id": "7afd7dd0",
   "metadata": {},
   "outputs": [
    {
     "name": "stdout",
     "output_type": "stream",
     "text": [
      "\n",
      "Early stopping occurred at epoch 350 with best_epoch = 50 and best_valid_rmse = 158.7263\n",
      "BEST VALID SCORE FOR DATA : 158.7262962824763\n",
      "FINAL TEST SCORE FOR DATA : 88863.69298169497\n"
     ]
    }
   ],
   "source": [
    "first_selected_solo_feature, val_rmse, test_rmse, first_model_solo = TabNet_modeling(X, y)\n",
    "print(f\"BEST VALID SCORE FOR DATA : {val_rmse}\")\n",
    "print(f\"FINAL TEST SCORE FOR DATA : {test_rmse}\")"
   ]
  },
  {
   "cell_type": "code",
   "execution_count": 20,
   "id": "ffd79983",
   "metadata": {},
   "outputs": [
    {
     "name": "stdout",
     "output_type": "stream",
     "text": [
      "\n",
      "Early stopping occurred at epoch 664 with best_epoch = 364 and best_valid_rmse = 129.77311\n",
      "BEST VALID SCORE FOR DATA : 129.77311255960308\n",
      "FINAL TEST SCORE FOR DATA : 159624.66722288562\n"
     ]
    }
   ],
   "source": [
    "# 최종 모델\n",
    "second_selected_solo_feature, val_rmse, test_rmse, second_model_solo = TabNet_modeling(first_selected_solo_feature, y)\n",
    "print(f\"BEST VALID SCORE FOR DATA : {val_rmse}\")\n",
    "print(f\"FINAL TEST SCORE FOR DATA : {test_rmse}\")"
   ]
  },
  {
   "cell_type": "code",
   "execution_count": 21,
   "id": "1f18ea31",
   "metadata": {},
   "outputs": [
    {
     "name": "stdout",
     "output_type": "stream",
     "text": [
      "\n",
      "Early stopping occurred at epoch 654 with best_epoch = 354 and best_valid_rmse = 55.04906\n",
      "BEST VALID SCORE FOR DATA : 55.049061505458965\n",
      "FINAL TEST SCORE FOR DATA : 20754.88604744343\n"
     ]
    }
   ],
   "source": [
    "third_selected_solo_feature, val_rmse, test_rmse, third_model_solo = TabNet_modeling(second_selected_solo_feature, y)\n",
    "print(f\"BEST VALID SCORE FOR DATA : {val_rmse}\")\n",
    "print(f\"FINAL TEST SCORE FOR DATA : {test_rmse}\")"
   ]
  },
  {
   "cell_type": "code",
   "execution_count": 24,
   "id": "8396094e",
   "metadata": {},
   "outputs": [
    {
     "name": "stdout",
     "output_type": "stream",
     "text": [
      "Stop training because you reached max_epochs = 1000 with best_epoch = 934 and best_valid_rmse = 89.97768\n",
      "BEST VALID SCORE FOR DATA : Done!\n",
      "FINAL TEST SCORE FOR DATA : Done!\n"
     ]
    }
   ],
   "source": [
    "fourth_selected_solo_feature, val_rmse, test_rmse, fourth_model_solo = TabNet_modeling(third_selected_solo_feature, y)\n",
    "print(f\"BEST VALID SCORE FOR DATA : {val_rmse}\")\n",
    "print(f\"FINAL TEST SCORE FOR DATA : {test_rmse}\")"
   ]
  },
  {
   "cell_type": "markdown",
   "id": "b3e9ecd5",
   "metadata": {},
   "source": [
    "- 실내악"
   ]
  },
  {
   "cell_type": "code",
   "execution_count": 25,
   "id": "97c446f5",
   "metadata": {},
   "outputs": [],
   "source": [
    "X = chamber_feature.drop([i for i in chamber_feature.columns if 'TARGET' in i], axis=1)\n",
    "y = chamber_feature[[i for i in chamber_feature.columns if 'TARGET' in i]]"
   ]
  },
  {
   "cell_type": "code",
   "execution_count": 26,
   "id": "1846751c",
   "metadata": {},
   "outputs": [
    {
     "name": "stdout",
     "output_type": "stream",
     "text": [
      "\n",
      "Early stopping occurred at epoch 891 with best_epoch = 591 and best_valid_rmse = 49.20571\n",
      "BEST VALID SCORE FOR DATA : 49.20571073031093\n",
      "FINAL TEST SCORE FOR DATA : 26829.03361086408\n"
     ]
    }
   ],
   "source": [
    "first_selected_chamber_feature, val_rmse, test_rmse, first_model_chamber = TabNet_modeling(X, y)\n",
    "print(f\"BEST VALID SCORE FOR DATA : {val_rmse}\")\n",
    "print(f\"FINAL TEST SCORE FOR DATA : {test_rmse}\")"
   ]
  },
  {
   "cell_type": "code",
   "execution_count": 27,
   "id": "017c8e59",
   "metadata": {},
   "outputs": [
    {
     "name": "stdout",
     "output_type": "stream",
     "text": [
      "\n",
      "Early stopping occurred at epoch 980 with best_epoch = 680 and best_valid_rmse = 122.10502\n",
      "BEST VALID SCORE FOR DATA : 122.1050167227347\n",
      "FINAL TEST SCORE FOR DATA : 21873.032723672866\n"
     ]
    }
   ],
   "source": [
    "# 최종 모델\n",
    "second_selected_chamber_feature, val_rmse, test_rmse, second_model_chamber = TabNet_modeling(first_selected_chamber_feature, y)\n",
    "print(f\"BEST VALID SCORE FOR DATA : {val_rmse}\")\n",
    "print(f\"FINAL TEST SCORE FOR DATA : {test_rmse}\")"
   ]
  },
  {
   "cell_type": "code",
   "execution_count": 28,
   "id": "5c7ba797",
   "metadata": {},
   "outputs": [
    {
     "name": "stdout",
     "output_type": "stream",
     "text": [
      "\n",
      "Early stopping occurred at epoch 961 with best_epoch = 661 and best_valid_rmse = 28.47508\n",
      "BEST VALID SCORE FOR DATA : 28.4750808843294\n",
      "FINAL TEST SCORE FOR DATA : 31782.73019420714\n"
     ]
    }
   ],
   "source": [
    "third_selected_chamber_feature, val_rmse, test_rmse, third_model_chamber = TabNet_modeling(second_selected_chamber_feature, y)\n",
    "print(f\"BEST VALID SCORE FOR DATA : {val_rmse}\")\n",
    "print(f\"FINAL TEST SCORE FOR DATA : {test_rmse}\")"
   ]
  },
  {
   "cell_type": "code",
   "execution_count": 29,
   "id": "cbc2dd02",
   "metadata": {},
   "outputs": [
    {
     "name": "stdout",
     "output_type": "stream",
     "text": [
      "Stop training because you reached max_epochs = 1000 with best_epoch = 908 and best_valid_rmse = 82.70715\n",
      "BEST VALID SCORE FOR DATA : 82.70715033844876\n",
      "FINAL TEST SCORE FOR DATA : 40919.92804516618\n"
     ]
    }
   ],
   "source": [
    "fourth_selected_chamber_feature, val_rmse, test_rmse, fourth_model_chamber = TabNet_modeling(third_selected_chamber_feature, y)\n",
    "print(f\"BEST VALID SCORE FOR DATA : {val_rmse}\")\n",
    "print(f\"FINAL TEST SCORE FOR DATA : {test_rmse}\")"
   ]
  },
  {
   "cell_type": "code",
   "execution_count": 30,
   "id": "4d51f1b5",
   "metadata": {},
   "outputs": [
    {
     "name": "stdout",
     "output_type": "stream",
     "text": [
      "\n",
      "Early stopping occurred at epoch 793 with best_epoch = 493 and best_valid_rmse = 91.4251\n",
      "BEST VALID SCORE FOR DATA : 91.4250996432538\n",
      "FINAL TEST SCORE FOR DATA : 45383.83921841585\n"
     ]
    }
   ],
   "source": [
    "fifth_selected_chamber_feature, val_rmse, test_rmse, fifth_model_chamber = TabNet_modeling(fourth_selected_chamber_feature, y)\n",
    "print(f\"BEST VALID SCORE FOR DATA : {val_rmse}\")\n",
    "print(f\"FINAL TEST SCORE FOR DATA : {test_rmse}\")"
   ]
  },
  {
   "cell_type": "code",
   "execution_count": 31,
   "id": "32477b9c",
   "metadata": {},
   "outputs": [
    {
     "name": "stdout",
     "output_type": "stream",
     "text": [
      "\n",
      "Early stopping occurred at epoch 741 with best_epoch = 441 and best_valid_rmse = 92.13339\n",
      "BEST VALID SCORE FOR DATA : Done!\n",
      "FINAL TEST SCORE FOR DATA : Done!\n"
     ]
    }
   ],
   "source": [
    "sixth_selected_chamber_feature, val_rmse, test_rmse, sixth_model_chamber = TabNet_modeling(fifth_selected_chamber_feature, y)\n",
    "print(f\"BEST VALID SCORE FOR DATA : {val_rmse}\")\n",
    "print(f\"FINAL TEST SCORE FOR DATA : {test_rmse}\")"
   ]
  },
  {
   "cell_type": "markdown",
   "id": "21188669",
   "metadata": {},
   "source": [
    "## Save data"
   ]
  },
  {
   "cell_type": "code",
   "execution_count": 33,
   "id": "db47f318",
   "metadata": {},
   "outputs": [],
   "source": [
    "pickle.dump((second_selected_symphony_feature,\n",
    "             chorus_feature.drop([i for i in chorus_feature.columns if 'TARGET' in i], axis=1),\n",
    "             voice_feature.drop([i for i in voice_feature.columns if 'TARGET' in i], axis=1) ,\n",
    "             second_selected_solo_feature, \n",
    "             second_selected_chamber_feature), \n",
    "            open(f'../data/Final_useful_features.pkl', 'wb'))"
   ]
  },
  {
   "cell_type": "code",
   "execution_count": null,
   "id": "b97ddf79",
   "metadata": {},
   "outputs": [],
   "source": []
  }
 ],
 "metadata": {
  "kernelspec": {
   "display_name": "Python 3 (ipykernel)",
   "language": "python",
   "name": "python3"
  },
  "language_info": {
   "codemirror_mode": {
    "name": "ipython",
    "version": 3
   },
   "file_extension": ".py",
   "mimetype": "text/x-python",
   "name": "python",
   "nbconvert_exporter": "python",
   "pygments_lexer": "ipython3",
   "version": "3.9.12"
  }
 },
 "nbformat": 4,
 "nbformat_minor": 5
}
